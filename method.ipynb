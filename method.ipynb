{
 "cells": [
  {
   "cell_type": "markdown",
   "metadata": {},
   "source": [
    "### Creating SQLite"
   ]
  },
  {
   "cell_type": "code",
   "execution_count": null,
   "metadata": {},
   "outputs": [],
   "source": [
    "import sqlite3\n",
    "\n",
    "# create and connect to database\n",
    "conn = sqlite3.connect(\"instagram_artists_apresearch.db\")\n",
    "cursor = conn.cursor()\n",
    "\n",
    "cmd = \"\""
   ]
  },
  {
   "cell_type": "code",
   "execution_count": null,
   "metadata": {},
   "outputs": [],
   "source": [
    "# create table of all profiles\n",
    "# column is_human is true if profile is a human artist\n",
    "cmd = \"\"\"CREATE TABLE profiles(\n",
    "    user_id INT,\n",
    "    username VARCHAR(30),\n",
    "    num_followers INT,\n",
    "    num_posts INT,\n",
    "    is_human BOOLEAN,\n",
    "    PRIMARY KEY (user_id)\n",
    "    );\"\"\"\n",
    "cursor.execute(cmd)\n",
    "\n",
    "# create table of all posts\n",
    "# column is_reel is true if the post is a reel\n",
    "cmd = \"\"\"CREATE TABLE posts(\n",
    "owner_user_id INT,\n",
    "owner_username VARCHAR(30),\n",
    "num_likes INT,\n",
    "num_comments INT,\n",
    "shortcode VARCHAR(255),\n",
    "img_url VARCHAR(255),\n",
    "post_date DATE,\n",
    "is_reel BOOLEAN,\n",
    "FOREIGN KEY(owner_user_id) REFERENCES Profiles(user_id)\n",
    ");\"\"\"\n",
    "cursor.execute(cmd)"
   ]
  },
  {
   "cell_type": "markdown",
   "metadata": {},
   "source": [
    "### Creating the dataframe of artist profiles"
   ]
  },
  {
   "cell_type": "code",
   "execution_count": null,
   "metadata": {},
   "outputs": [],
   "source": [
    "# %pip install instaloader\n",
    "import instaloader\n",
    "\n",
    "# Creating an instance of the Instaloader class\n",
    "bot = instaloader.Instaloader()\n",
    "# #bot.login(user=\"Your_username\",passwd=\"Your_password\") #Use this code to log-in to your account."
   ]
  },
  {
   "cell_type": "code",
   "execution_count": null,
   "metadata": {},
   "outputs": [],
   "source": [
    "# %pip install pandas\n",
    "import pandas as pd\n",
    "\n",
    "# creating a data frame for human artists usernames\n",
    "df = pd.read_csv(\"HA.csv\")\n",
    "\n",
    "# for every profile in the csv, retreive data from instagram using instaloader\n",
    "# insert every profile as a row into the profiles table\n",
    "for i in df.index:\n",
    "    for col in df.columns[1:]:\n",
    "        try:\n",
    "            if(pd.notna(df.loc[i,col])):\n",
    "                p = instaloader.Profile.from_username(bot.context, df.loc[i,col]) # retreive profile\n",
    "                print(f\"{p.userid}, {p.username}, {p.followers}, {p.mediacount}, true, {df.iloc[i,0]}\")\n",
    "        except Exception as e:\n",
    "            print(f\"{e} with user: {df.loc[i,col]}, row: {i}, col: {col}\")"
   ]
  },
  {
   "cell_type": "code",
   "execution_count": null,
   "metadata": {},
   "outputs": [],
   "source": [
    "# creating a data frame for AI artists usernames\n",
    "df = pd.read_csv(\"AI.csv\")\n",
    "\n",
    "# for every profile in the csv, retreive data from instagram using instaloader\n",
    "# insert every profile as a row into the profiles table\n",
    "for i in df.index:\n",
    "    for col in df.columns[1:]:\n",
    "        try:\n",
    "            if(pd.notna(df.loc[i,col])):\n",
    "                p = instaloader.Profile.from_username(bot.context, df.loc[i,col]) # retreive profile\n",
    "                print(f\"{p.userid}, {p.username}, {p.followers}, {p.mediacount}, false, {df.iloc[i,0]}\")\n",
    "        except Exception as e:\n",
    "            print(f\"{e} with user: {df.loc[i,col]}, row: {i}, col: {col}\")"
   ]
  },
  {
   "cell_type": "code",
   "execution_count": null,
   "metadata": {},
   "outputs": [],
   "source": [
    "# create pd dataframe of all artist profiles from database\n",
    "profiles_df = pd.read_sql(\"SELECT * FROM profiles\", conn)"
   ]
  },
  {
   "cell_type": "markdown",
   "metadata": {},
   "source": [
    "### Creating the dataframe of all posts from every artist profile"
   ]
  },
  {
   "cell_type": "code",
   "execution_count": null,
   "metadata": {},
   "outputs": [],
   "source": [
    "for user in profiles_df['username']:\n",
    "    profile = instaloader.Profile.from_username(bot.context, user)\n",
    "    for p in profile.get_posts():\n",
    "        print(f\"{p.owner_id}, {p.owner_username}, {p.likes}, {p.comments}, {p.shortcode},{p.owner_id}\")\n"
   ]
  }
 ],
 "metadata": {
  "kernelspec": {
   "display_name": "Python 3",
   "language": "python",
   "name": "python3"
  },
  "language_info": {
   "codemirror_mode": {
    "name": "ipython",
    "version": 3
   },
   "file_extension": ".py",
   "mimetype": "text/x-python",
   "name": "python",
   "nbconvert_exporter": "python",
   "pygments_lexer": "ipython3",
   "version": "3.11.8"
  }
 },
 "nbformat": 4,
 "nbformat_minor": 2
}
